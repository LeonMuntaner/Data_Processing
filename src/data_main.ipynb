{
 "cells": [
  {
   "cell_type": "markdown",
   "metadata": {},
   "source": [
    "### Data Transform\n",
    "\n",
    "Analysis Process:\n",
    "\n",
    "* Perform EDA and check what are all the datapoints we have to upload. As in, do we have to upload patient, specimen and so on?\n",
    "\n",
    "* Within the datapoints what are the distinct values for each attribute (e.g. Say specimen has bodysite column, then what are the distinct values of that column?)\n",
    "\n",
    "* Map the values directly to the values that exist in Case Browser Data Dictionary\n",
    "\n",
    "* If not, then we need to apply certain transformations which come at a later stage"
   ]
  },
  {
   "cell_type": "code",
   "execution_count": 1,
   "metadata": {},
   "outputs": [],
   "source": [
    "import os\n",
    "import yaml\n",
    "import logging\n",
    "import pandas as pd\n",
    "from datetime import datetime\n",
    "from modules.transform_dst_mod import transform_dst\n",
    "from modules.excel_mod import preprocess_data_from_excel\n",
    "from modules.transform_biochem_mod import transform_biochem\n",
    "from modules.transform_culture_mod import transform_culture\n",
    "from modules.transform_specimen_mod import transform_specimen\n",
    "from modules.transform_microscopy_mod import transform_microscopy\n",
    "from modules.transform_patient_case_mod import transform_condition\n",
    "from modules.transform_patient_case_mod import  transform_patient_case\n",
    "from modules.transform_Georgia_mod import create_patient_condition_table\n",
    "from modules.transform_regimen_treatment_mod import transform_regimen_treatment, transform_regimen\n",
    "\n",
    "pd.set_option('display.max_columns', None)\n",
    "pd.set_option('display.max_rows', None)\n",
    "pd.set_option('display.max_columns', None)\n",
    "pd.set_option('display.max_colwidth', None)\n",
    "\n",
    "# Configuring the logging settings\n",
    "logging.basicConfig(filename='../logs/Data_main.log'.format(datetime.now().strftime(\"%Y-%m-%d\")), level=logging.INFO, format='%(asctime)s - %(levelname)s - %(message)s')"
   ]
  },
  {
   "cell_type": "markdown",
   "metadata": {},
   "source": [
    "#### Helper Functions\n",
    "\n",
    "These functions are to be used in special cases where small transformations are required."
   ]
  },
  {
   "cell_type": "code",
   "execution_count": 2,
   "metadata": {},
   "outputs": [],
   "source": [
    "# Drop the first row if needed. Sometimes this row is an example that we don't need.\n",
    "def drop_example_row(dataframe, rows_to_drop):\n",
    "    dataframe = dataframe.drop(index=rows_to_drop).reset_index(drop=True)\n",
    "    return dataframe\n",
    "\n",
    "# If the height column is in meters, it needs to be converted to centimeters. \n",
    "# I noticed that for file Case Browser Bulk upload TBHULID 3 FINAL.xlsx the weight and-\n",
    "# height values were swapped. So i had to manually fix that.\n",
    "def swap_values(row):\n",
    "    weight = row['weight']\n",
    "    height = row['height']\n",
    "    \n",
    "    if 'm' in weight and 'kg' in height:\n",
    "        row['weight'], row['height'] = height, weight\n",
    "    elif 'kg' in weight and 'm' in height:\n",
    "        row['weight'], row['height'] = weight, height\n",
    "    \n",
    "    return row\n",
    "\n",
    "# Function that checks for duplicates in a dataframe\n",
    "def check_dups(dataframe, col_name):\n",
    "    if dataframe.duplicated(subset=col_name).sum() == 0:\n",
    "        print(f'No duplicates in {col_name}')\n",
    "    else:\n",
    "        initial_dups = dataframe.duplicated(subset=col_name).sum()\n",
    "        print(f'Duplicates in {col_name}: {initial_dups}')\n",
    "        \n",
    "        # Call the drop_dups function to drop the duplicates\n",
    "        drop_dups(dataframe, col_name)\n",
    "        print(f'Dropped duplicates in {col_name}. Duplicate count shoul be zero: {dataframe.duplicated(subset=col_name).sum()}')\n",
    "\n",
    "def drop_dups(dataframe, col_name):\n",
    "    dataframe.drop_duplicates(subset=col_name, inplace=True)\n",
    "    dataframe.reset_index(drop=True, inplace=True)"
   ]
  },
  {
   "cell_type": "code",
   "execution_count": null,
   "metadata": {},
   "outputs": [],
   "source": [
    "# The path to the xlsx files.\n",
    "with open('../config/config.yml', 'r') as config_file:\n",
    "    config = yaml.safe_load(config_file)\n",
    "\n",
    "# Setting the path for the excel file found in the config file.\n",
    "file_path = config[\"MLI_dec_2023_file_path\"]\n",
    "file_paths = [file_path]"
   ]
  },
  {
   "cell_type": "code",
   "execution_count": null,
   "metadata": {},
   "outputs": [],
   "source": [
    "# Extract the sheets of interest from the excel file and into csv form\n",
    "# data_folder = '../COUNTRIES/USA/data/interm/'\n",
    "# country_month = 'MLI_dec_2023'\n",
    "# preprocess_data_from_excel(file_paths, data_folder, country_month)"
   ]
  },
  {
   "cell_type": "code",
   "execution_count": null,
   "metadata": {},
   "outputs": [],
   "source": [
    "# Set the dataframes after they have been extracted from the excel file.\n",
    "patient_case = pd.read_csv('../COUNTRIES/USA/data/interm/MLI_dec_2023_1_20240129.csv')\n",
    "microscopy = pd.read_csv('../COUNTRIES/USA/data/interm/MLI_dec_2023_2_20240129.csv')\n",
    "culture = pd.read_csv('../COUNTRIES/USA/data/interm/MLI_dec_2023_3_20240129.csv')\n",
    "specimen = pd.read_csv('../COUNTRIES/USA/data/interm/MLI_dec_2023_4_20240129.csv')\n",
    "# dst = pd.read_csv('Mali/data/interm/Mali_jan_3_dst.csv')\n",
    "# regimen_treatment = pd.read_csv('Mexico/data/interm/Mexico_nov_6.csv')\n",
    "# biochem = pd.read_csv('Mexico/data/interm/Mexico_nov_7.csv')"
   ]
  },
  {
   "cell_type": "markdown",
   "metadata": {},
   "source": [
    "#### In cases where the country data does not have a patient case file, use this to create the registrationdate column."
   ]
  },
  {
   "cell_type": "code",
   "execution_count": null,
   "metadata": {},
   "outputs": [],
   "source": [
    "# CaseBrowser_prod_data = pd.read_csv('../countries/Mali/data/raw/Mali_Prod_data_01_16_24.csv')\n",
    "# registrationdate = CaseBrowser_prod_data[['patient_local_identifier', 'registrationdate']]\n",
    "\n",
    "# Changing the column names to match the target dataframe\n",
    "# registrationdate.rename(columns={'patient_local_identifier':'identifier'}, inplace=True)"
   ]
  },
  {
   "cell_type": "code",
   "execution_count": null,
   "metadata": {},
   "outputs": [],
   "source": [
    "# patient_case = pd.read_csv('Mexico/data/interm/Mexico_nov_1.csv')\n",
    "# dst = pd.read_csv('Mexico/data/interm/Mexico_nov_5.csv')"
   ]
  },
  {
   "cell_type": "markdown",
   "metadata": {},
   "source": [
    "#### Patient Case dataframe:\n",
    "\n",
    "For the patient table, refer to the first three columns of the 'Patient Case' tab. \n",
    "\n",
    "For condition, please refer to the remaining columns. \n",
    "\n",
    "There is a particular format as to how the condition table is loaded. Dataentry_Pune or TBDM is good table to refer. \n",
    "\n",
    "I believe column comorbidity is enclosed within {} where we aggregate the multiple values."
   ]
  },
  {
   "cell_type": "code",
   "execution_count": null,
   "metadata": {},
   "outputs": [],
   "source": [
    "patient_case.head(20)"
   ]
  },
  {
   "cell_type": "code",
   "execution_count": null,
   "metadata": {},
   "outputs": [],
   "source": [
    "# Some of the column names have spaces in them. I stripped the spaces from the column names.\n",
    "patient_case.columns = patient_case.columns.str.replace(' ', '')"
   ]
  },
  {
   "cell_type": "code",
   "execution_count": null,
   "metadata": {},
   "outputs": [],
   "source": [
    "patient_case['registrationdate'].unique()"
   ]
  },
  {
   "cell_type": "code",
   "execution_count": null,
   "metadata": {},
   "outputs": [],
   "source": [
    "patient_case.query('registrationdate == \"29-Feb-2021\"')"
   ]
  },
  {
   "cell_type": "code",
   "execution_count": null,
   "metadata": {},
   "outputs": [],
   "source": [
    "# Change the value 29-Feb-2021 to 2021-02-28. There is no 29th of February in 2021.\n",
    "patient_case['registrationdate'] = patient_case['registrationdate'].replace('29-Feb-2021', '2021-02-28')"
   ]
  },
  {
   "cell_type": "code",
   "execution_count": null,
   "metadata": {},
   "outputs": [],
   "source": [
    "# Drop the first row if needed. Sometimes this row is an example \n",
    "# rows_to_drop = [0]\n",
    "# patient_case = drop_example_row(patient_case, rows_to_drop)\n",
    "\n",
    "# Drop the last column in cases where there was a comment written in the excel file\n",
    "# patient_case = patient_case.iloc[:, :-1]"
   ]
  },
  {
   "cell_type": "code",
   "execution_count": null,
   "metadata": {},
   "outputs": [],
   "source": [
    "new_patient_case = transform_patient_case(patient_case)"
   ]
  },
  {
   "cell_type": "code",
   "execution_count": null,
   "metadata": {},
   "outputs": [],
   "source": [
    "new_patient_case.head(15)"
   ]
  },
  {
   "cell_type": "code",
   "execution_count": null,
   "metadata": {},
   "outputs": [],
   "source": [
    "new_patient_case['weight'] = new_patient_case['weight'].replace('-', pd.NA)"
   ]
  },
  {
   "cell_type": "code",
   "execution_count": null,
   "metadata": {},
   "outputs": [],
   "source": [
    "# Registration dates:\n",
    "registration = new_patient_case[['identifier', 'registrationdate']]\n",
    "\n",
    "# Patient table:\n",
    "patient = new_patient_case[['identifier', 'gender', 'managingorganizationid']]\n",
    "\n",
    "new_order_patient = ['gender', 'managingorganizationid', 'identifier']\n",
    "\n",
    "patient = patient.reindex(columns=new_order_patient)"
   ]
  },
  {
   "cell_type": "code",
   "execution_count": null,
   "metadata": {},
   "outputs": [],
   "source": [
    "patient.head()"
   ]
  },
  {
   "cell_type": "markdown",
   "metadata": {},
   "source": [
    "#### Condition dataframe:"
   ]
  },
  {
   "cell_type": "code",
   "execution_count": null,
   "metadata": {},
   "outputs": [],
   "source": [
    "col_exclude = ['gender', 'managingorganizationid']\n",
    "condition = new_patient_case.drop(columns=col_exclude)"
   ]
  },
  {
   "cell_type": "code",
   "execution_count": null,
   "metadata": {},
   "outputs": [],
   "source": [
    "condition.head(20)"
   ]
  },
  {
   "cell_type": "code",
   "execution_count": null,
   "metadata": {},
   "outputs": [],
   "source": [
    "# I noticed that for some files the weight and height values were swapped. So i had to manually fix that.\n",
    "# condition = condition.apply(swap_values, axis=1)"
   ]
  },
  {
   "cell_type": "code",
   "execution_count": null,
   "metadata": {},
   "outputs": [],
   "source": [
    "new_condition = transform_condition(condition)"
   ]
  },
  {
   "cell_type": "code",
   "execution_count": null,
   "metadata": {},
   "outputs": [],
   "source": [
    "new_condition.head(20)"
   ]
  },
  {
   "cell_type": "code",
   "execution_count": null,
   "metadata": {},
   "outputs": [],
   "source": [
    "# The ageonset column needs to be a string type.\n",
    "new_condition['ageonset'] = new_condition['ageonset'].astype(str)"
   ]
  },
  {
   "cell_type": "markdown",
   "metadata": {},
   "source": [
    "#### Microscopy dataframe:"
   ]
  },
  {
   "cell_type": "code",
   "execution_count": null,
   "metadata": {},
   "outputs": [],
   "source": [
    "microscopy.head(15)"
   ]
  },
  {
   "cell_type": "code",
   "execution_count": null,
   "metadata": {},
   "outputs": [],
   "source": [
    "microscopy['result'].unique()"
   ]
  },
  {
   "cell_type": "code",
   "execution_count": null,
   "metadata": {},
   "outputs": [],
   "source": [
    "# rows_to_drop = [0]\n",
    "# microscopy = drop_example_row(microscopy, rows_to_drop)"
   ]
  },
  {
   "cell_type": "code",
   "execution_count": null,
   "metadata": {},
   "outputs": [],
   "source": [
    "# microscopy = microscopy.iloc[:, :-2]"
   ]
  },
  {
   "cell_type": "code",
   "execution_count": null,
   "metadata": {},
   "outputs": [],
   "source": [
    "# Change the value 29/02/2021 to 2021-02-28. There is no 29th of February in 2021.\n",
    "microscopy['collected_date'] = microscopy['collected_date'].replace('29/02/2021', '2021-02-28')"
   ]
  },
  {
   "cell_type": "code",
   "execution_count": null,
   "metadata": {},
   "outputs": [],
   "source": [
    "new_microscopy = transform_microscopy(microscopy, registration)"
   ]
  },
  {
   "cell_type": "code",
   "execution_count": null,
   "metadata": {},
   "outputs": [],
   "source": [
    "new_microscopy.head(40)"
   ]
  },
  {
   "cell_type": "markdown",
   "metadata": {},
   "source": [
    "#### Culture dataframe:"
   ]
  },
  {
   "cell_type": "code",
   "execution_count": null,
   "metadata": {},
   "outputs": [],
   "source": [
    "culture.head(20)"
   ]
  },
  {
   "cell_type": "code",
   "execution_count": null,
   "metadata": {},
   "outputs": [],
   "source": [
    "culture['collected_date'].unique()"
   ]
  },
  {
   "cell_type": "code",
   "execution_count": null,
   "metadata": {},
   "outputs": [],
   "source": [
    "# culture = drop_example_row(culture, rows_to_drop)"
   ]
  },
  {
   "cell_type": "code",
   "execution_count": null,
   "metadata": {},
   "outputs": [],
   "source": [
    "# culture = culture.iloc[:, :-1]"
   ]
  },
  {
   "cell_type": "code",
   "execution_count": null,
   "metadata": {},
   "outputs": [],
   "source": [
    "culture['collected_date'] = culture['collected_date'].replace('3/12/2021', '2021-03-12')"
   ]
  },
  {
   "cell_type": "code",
   "execution_count": null,
   "metadata": {},
   "outputs": [],
   "source": [
    "new_culture = transform_culture(culture, registration)"
   ]
  },
  {
   "cell_type": "code",
   "execution_count": null,
   "metadata": {},
   "outputs": [],
   "source": [
    "new_culture.head(20)"
   ]
  },
  {
   "cell_type": "code",
   "execution_count": null,
   "metadata": {},
   "outputs": [],
   "source": [
    "# For all the identifiers where the isued column is NaN, replace the NaN with the registration date for that identifier.\n",
    "# new_culture['issued'] = new_culture['issued'].fillna(new_culture['identifier'].map(registration.set_index('identifier')['registrationdate']))"
   ]
  },
  {
   "cell_type": "markdown",
   "metadata": {},
   "source": [
    "#### Specimen dataframe:"
   ]
  },
  {
   "cell_type": "code",
   "execution_count": null,
   "metadata": {},
   "outputs": [],
   "source": [
    "specimen.head(20)"
   ]
  },
  {
   "cell_type": "code",
   "execution_count": null,
   "metadata": {},
   "outputs": [],
   "source": [
    "specimen['collected_date'].unique()"
   ]
  },
  {
   "cell_type": "code",
   "execution_count": null,
   "metadata": {},
   "outputs": [],
   "source": [
    "specimen['collected_date'] = specimen['collected_date'].replace('29/02/2021', '2021-02-28')"
   ]
  },
  {
   "cell_type": "code",
   "execution_count": null,
   "metadata": {},
   "outputs": [],
   "source": [
    "# specimen = drop_example_row(specimen, rows_to_drop)"
   ]
  },
  {
   "cell_type": "code",
   "execution_count": null,
   "metadata": {},
   "outputs": [],
   "source": [
    "# specimen = specimen.iloc[:, :-1]"
   ]
  },
  {
   "cell_type": "code",
   "execution_count": null,
   "metadata": {},
   "outputs": [],
   "source": [
    "new_specimen = transform_specimen(specimen, registration)"
   ]
  },
  {
   "cell_type": "code",
   "execution_count": null,
   "metadata": {},
   "outputs": [],
   "source": [
    "new_specimen.head(40)"
   ]
  },
  {
   "cell_type": "markdown",
   "metadata": {},
   "source": [
    "#### DST dataframe:\n",
    "How can I turn the drug columns into a JSON format that looks like this: \n",
    "* {({code:H},S),({code:R},S),({code:E},S),({code:S},S)}"
   ]
  },
  {
   "cell_type": "markdown",
   "metadata": {},
   "source": [
    "Urvi said: \n",
    "* The way she usually goes around this is that she has two columns, one for drug code and another for dst results(R,S,I). \n",
    "* Then she concats those in the format ({code:H},S). \n",
    "* Now for each patient, specimen, dst test combo, she will have multiple rows based on drug:result combo. \n",
    "* In the above example there will be a row for ({code:H},S), then a row for ({code:R},S), then a row for ({code:E},S) and ({code:S},S). \n",
    "* Finally I will use string_agg on the conacat column and group  by patient, specimen, dst test"
   ]
  },
  {
   "cell_type": "code",
   "execution_count": null,
   "metadata": {},
   "outputs": [],
   "source": [
    "dst.head(40)"
   ]
  },
  {
   "cell_type": "code",
   "execution_count": null,
   "metadata": {},
   "outputs": [],
   "source": [
    "rows_to_drop = [0, 1, 2, 3]\n",
    "dst = drop_example_row(dst, rows_to_drop)"
   ]
  },
  {
   "cell_type": "code",
   "execution_count": null,
   "metadata": {},
   "outputs": [],
   "source": [
    "# dst['specimen'] = dst['specimen'].str.replace('_S_1', '')\n",
    "\n",
    "# # I need to change some value in the specimen column to match the values in the specimen dataframe.\n",
    "# dst['specimen'] = dst['specimen'].replace('MAL09-2040-3', 'MAL092040-3')\n",
    "# dst['specimen'] = dst['specimen'].replace('MAL09-2040-2', 'MAL092040-2')\n",
    "\n",
    "# dst['specimen local'] = dst['specimen local'].replace('MAL09-2040-3', 'MAL092040-3_S_3')\n",
    "# dst['specimen local'] = dst['specimen local'].replace('MAL09-2040-2', 'MAL092040-2_S_2')"
   ]
  },
  {
   "cell_type": "code",
   "execution_count": null,
   "metadata": {},
   "outputs": [],
   "source": [
    "new_dst = transform_dst(dst, registration)"
   ]
  },
  {
   "cell_type": "code",
   "execution_count": null,
   "metadata": {},
   "outputs": [],
   "source": [
    "new_dst.head(50)"
   ]
  },
  {
   "cell_type": "code",
   "execution_count": null,
   "metadata": {},
   "outputs": [],
   "source": [
    "# Keep the indecies that are valid\n",
    "indexes_to_keep = [9, 11, 13, 20]\n",
    "new_dst = new_dst.loc[indexes_to_keep]\n",
    "new_dst.reset_index(drop=True, inplace=True)"
   ]
  },
  {
   "cell_type": "markdown",
   "metadata": {},
   "source": [
    "#### Regimen and Treatment dataframe:"
   ]
  },
  {
   "cell_type": "code",
   "execution_count": null,
   "metadata": {},
   "outputs": [],
   "source": [
    "regimen_treatment.head(40)"
   ]
  },
  {
   "cell_type": "code",
   "execution_count": null,
   "metadata": {},
   "outputs": [],
   "source": [
    "rows_to_drop = [0, 1]\n",
    "regimen_treatment = drop_example_row(regimen_treatment, rows_to_drop)"
   ]
  },
  {
   "cell_type": "code",
   "execution_count": null,
   "metadata": {},
   "outputs": [],
   "source": [
    "# The value 'ND' in the end date column for Case Browser Bulk upload TBHULID 3 FINAL.xlsx-\n",
    "# is changed to NaN\n",
    "# regimen_treatment['end date'] = regimen_treatment['end date'].replace('ND', np.nan)"
   ]
  },
  {
   "cell_type": "code",
   "execution_count": null,
   "metadata": {},
   "outputs": [],
   "source": [
    "new_regimen_treatment = transform_regimen_treatment(regimen_treatment)"
   ]
  },
  {
   "cell_type": "code",
   "execution_count": null,
   "metadata": {},
   "outputs": [],
   "source": [
    "new_regimen_treatment.head(40)"
   ]
  },
  {
   "cell_type": "code",
   "execution_count": null,
   "metadata": {},
   "outputs": [],
   "source": [
    "# Now that everything is cleaned up, I will split the dataframe to make the regimen and treatment dataframes\n",
    "treatment_cols = ['identifier', 'start', 'end', 'outcome']\n",
    "treatment = new_regimen_treatment[treatment_cols]"
   ]
  },
  {
   "cell_type": "code",
   "execution_count": null,
   "metadata": {},
   "outputs": [],
   "source": [
    "treatment = pd.merge(treatment, registration, on='identifier')\n",
    "\n",
    "# * Re-order the columns to match how they look in the database.\n",
    "new_order = ['identifier', 'registrationdate', 'start', 'end', 'outcome']\n",
    "\n",
    "treatment = treatment.reindex(columns=new_order)"
   ]
  },
  {
   "cell_type": "code",
   "execution_count": null,
   "metadata": {},
   "outputs": [],
   "source": [
    "treatment.head(40)"
   ]
  },
  {
   "cell_type": "code",
   "execution_count": null,
   "metadata": {},
   "outputs": [],
   "source": [
    "exclude_col = 'outcome'\n",
    "regimen = new_regimen_treatment.drop(columns=exclude_col)"
   ]
  },
  {
   "cell_type": "code",
   "execution_count": null,
   "metadata": {},
   "outputs": [],
   "source": [
    "regimen.head(40)"
   ]
  },
  {
   "cell_type": "code",
   "execution_count": null,
   "metadata": {},
   "outputs": [],
   "source": [
    "new_regimen = transform_regimen(regimen, registration)"
   ]
  },
  {
   "cell_type": "code",
   "execution_count": null,
   "metadata": {},
   "outputs": [],
   "source": [
    "# Replacing the Adverse event value because the module function did not change it\n",
    "# new_regimen['reason'] = new_regimen['reason'].str.replace('Adverse event', 'adverse')"
   ]
  },
  {
   "cell_type": "code",
   "execution_count": null,
   "metadata": {},
   "outputs": [],
   "source": [
    "# I need to ask Urvi/Julia what to do with these NaN values in the reason column.\n",
    "new_regimen.head(40)"
   ]
  },
  {
   "cell_type": "markdown",
   "metadata": {},
   "source": [
    "#### Biochemistry Dataframe:"
   ]
  },
  {
   "cell_type": "code",
   "execution_count": null,
   "metadata": {},
   "outputs": [],
   "source": [
    "biochem.head(40)"
   ]
  },
  {
   "cell_type": "code",
   "execution_count": null,
   "metadata": {},
   "outputs": [],
   "source": [
    "rows_to_drop = [0]\n",
    "biochemistry = drop_example_row(biochem, rows_to_drop)\n",
    "\n",
    "# Drop the Action column \n",
    "biochemistry = biochemistry.iloc[:, :-1]"
   ]
  },
  {
   "cell_type": "code",
   "execution_count": null,
   "metadata": {},
   "outputs": [],
   "source": [
    "# biochemistry['Date'] = biochemistry['Date'].replace('NO DATA', np.nan)"
   ]
  },
  {
   "cell_type": "code",
   "execution_count": null,
   "metadata": {},
   "outputs": [],
   "source": [
    "new_biochemistry = transform_biochem(biochemistry)"
   ]
  },
  {
   "cell_type": "code",
   "execution_count": null,
   "metadata": {},
   "outputs": [],
   "source": [
    "new_biochemistry.reset_index(drop=True, inplace=True)"
   ]
  },
  {
   "cell_type": "code",
   "execution_count": null,
   "metadata": {},
   "outputs": [],
   "source": [
    "# TODO: I think I need to drop those NaN values in the result column\n",
    "new_biochemistry.head(40)"
   ]
  },
  {
   "cell_type": "markdown",
   "metadata": {},
   "source": [
    "#### For instances where Patient Case or Condition file is not in the XLSX country file."
   ]
  },
  {
   "cell_type": "code",
   "execution_count": null,
   "metadata": {},
   "outputs": [],
   "source": [
    "def save_patient_condition(dataframes, data_folder, country_month):\n",
    "    index_labels = {1: 'patient', 2: 'condition'}\n",
    "    timestamp = datetime.now().strftime(\"%Y-%m-%d_%H-%M\")\n",
    "    \n",
    "    # Loop through the dataframes list and save them \n",
    "    for idx, df in enumerate(dataframes, start=1):\n",
    "        csv_file_name = f'{country_month}_{idx}_{timestamp}'\n",
    "        \n",
    "        # Conditionally add the label based on the index\n",
    "        if idx in index_labels:\n",
    "            csv_file_name += f'_{index_labels[idx]}'\n",
    "        \n",
    "        csv_file_name += '.csv'\n",
    "        \n",
    "        csv_file_path = os.path.join(data_folder, csv_file_name)\n",
    "        df.to_csv(csv_file_path, index=False)"
   ]
  },
  {
   "cell_type": "code",
   "execution_count": null,
   "metadata": {},
   "outputs": [],
   "source": [
    "processed_jan = pd.read_csv('../countries/Mali/data/processed/Mali_jan_2_2024-01-16_14-35.csv')"
   ]
  },
  {
   "cell_type": "code",
   "execution_count": null,
   "metadata": {},
   "outputs": [],
   "source": [
    "processed_jan.head(20)"
   ]
  },
  {
   "cell_type": "code",
   "execution_count": null,
   "metadata": {},
   "outputs": [],
   "source": [
    "patient_condition_jan = create_patient_condition_table(processed_jan, CaseBrowser_prod_data)"
   ]
  },
  {
   "cell_type": "code",
   "execution_count": null,
   "metadata": {},
   "outputs": [],
   "source": [
    "# Print tuples of the dataframes\n",
    "patient_condition_jan[0].head(10) # *patient table*"
   ]
  },
  {
   "cell_type": "code",
   "execution_count": null,
   "metadata": {},
   "outputs": [],
   "source": [
    "patient_condition_jan[1].head(10) # *condition table*"
   ]
  },
  {
   "cell_type": "code",
   "execution_count": null,
   "metadata": {},
   "outputs": [],
   "source": [
    "# Now I want to make the tuples into individual dataframes\n",
    "Mali_jan_patient = patient_condition_jan[0]\n",
    "Mali_jan_condition = patient_condition_jan[1]"
   ]
  },
  {
   "cell_type": "code",
   "execution_count": null,
   "metadata": {},
   "outputs": [],
   "source": [
    "Mali_jan_condition.duplicated().sum()"
   ]
  },
  {
   "cell_type": "code",
   "execution_count": null,
   "metadata": {},
   "outputs": [],
   "source": [
    "# drop_dups(Mali_jan_patient, 'identifier')\n",
    "drop_dups(Mali_jan_condition, 'identifier')"
   ]
  },
  {
   "cell_type": "code",
   "execution_count": null,
   "metadata": {},
   "outputs": [],
   "source": [
    "# List of dataframes to save\n",
    "dataframes_patient_condition = [Mali_jan_patient, Mali_jan_condition]\n",
    "\n",
    "save_patient_condition(dataframes_patient_condition, data_folder, country_month)"
   ]
  },
  {
   "cell_type": "markdown",
   "metadata": {},
   "source": [
    "#### Save final dataframes into the processed data folder"
   ]
  },
  {
   "cell_type": "code",
   "execution_count": null,
   "metadata": {},
   "outputs": [],
   "source": [
    "# Check for duplicates in the dataframes\n",
    "check_dups(new_specimen, 'containeridentifier')"
   ]
  },
  {
   "cell_type": "code",
   "execution_count": null,
   "metadata": {},
   "outputs": [],
   "source": [
    "# List of dataframes to save\n",
    "dataframes = [patient, new_condition, new_microscopy, new_culture, new_specimen]\n",
    "\n",
    "# Change the folder depending on the country \n",
    "data_folder = '../COUNTRIES/USA/data/processed/'\n",
    "country_month = 'MLI_Dec'\n",
    "timestamp = datetime.now().strftime(\"%Y-%m-%d_%H-%M\")\n",
    "\n",
    "# Loop through the dataframes list and save them \n",
    "for idx, df in enumerate(dataframes, start=1):\n",
    "    csv_file_path = os.path.join(data_folder, f'{country_month}_{idx}_{timestamp}.csv')\n",
    "    df.to_csv(csv_file_path, index=False)"
   ]
  },
  {
   "cell_type": "code",
   "execution_count": null,
   "metadata": {},
   "outputs": [],
   "source": []
  }
 ],
 "metadata": {
  "kernelspec": {
   "display_name": "NTM-env",
   "language": "python",
   "name": "python3"
  },
  "language_info": {
   "codemirror_mode": {
    "name": "ipython",
    "version": 3
   },
   "file_extension": ".py",
   "mimetype": "text/x-python",
   "name": "python",
   "nbconvert_exporter": "python",
   "pygments_lexer": "ipython3",
   "version": "3.11.0"
  },
  "orig_nbformat": 4
 },
 "nbformat": 4,
 "nbformat_minor": 2
}
