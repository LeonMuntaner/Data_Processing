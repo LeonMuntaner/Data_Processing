{
 "cells": [
  {
   "cell_type": "code",
   "execution_count": null,
   "metadata": {},
   "outputs": [],
   "source": [
    "import os\n",
    "import sys\n",
    "import warnings\n",
    "import pandas as pd\n",
    "sys.path.append('../modules')\n",
    "from transform_dst_mod import transform_dst\n",
    "from transform_specimen_mod import transform_specimen\n",
    "\n",
    "warnings.filterwarnings(\"ignore\")\n",
    "pd.set_option('display.max_columns', None)\n",
    "pd.set_option('display.max_rows', None)\n",
    "pd.set_option('display.max_columns', None)\n",
    "pd.set_option('display.max_colwidth', None)"
   ]
  },
  {
   "cell_type": "code",
   "execution_count": null,
   "metadata": {},
   "outputs": [],
   "source": [
    "specimen = pd.read_csv('../Mali/data/interm/Mali_jan_1_specimen.csv')\n",
    "dst = pd.read_csv('../Mali/data/interm/Mali_jan_3_dst.csv')\n",
    "CaseBrowser_prod_data = pd.read_csv('../Mali/data/raw/Mali_Prod_data_01_16_24.csv')"
   ]
  },
  {
   "cell_type": "code",
   "execution_count": null,
   "metadata": {},
   "outputs": [],
   "source": [
    "# Creating the containeridentifier so that it can be used to merge with the specimen dataframe.\n",
    "containeridentifier = specimen[['patient_local_identifier', 'spec_local_identifier', 'collected_date']]\n",
    "\n",
    "# Change the column names to match the other dataframes.\n",
    "containeridentifier.rename(columns={'patient_local_identifier':'specimen', \n",
    "                                    'spec_local_identifier':'specimen local',\n",
    "                                    'collected_date':'date'}, inplace=True)"
   ]
  },
  {
   "cell_type": "code",
   "execution_count": null,
   "metadata": {},
   "outputs": [],
   "source": [
    "containeridentifier.head(20)"
   ]
  },
  {
   "cell_type": "code",
   "execution_count": null,
   "metadata": {},
   "outputs": [],
   "source": [
    "dst.head(20)"
   ]
  },
  {
   "cell_type": "code",
   "execution_count": null,
   "metadata": {},
   "outputs": [],
   "source": [
    "# Checking the same as above but with the data from prod\n",
    "containeridentifier_prod = CaseBrowser_prod_data[['patient_local_identifier', 'private_container_identifier', 'collected_date', 'registrationdate']]\n",
    "\n",
    "containeridentifier_prod.rename(columns={'patient_local_identifier':'specimen',\n",
    "                                    'collected_date':'date'}, inplace=True)"
   ]
  },
  {
   "cell_type": "code",
   "execution_count": null,
   "metadata": {},
   "outputs": [],
   "source": [
    "# Function that strips the dashes from the columns excpet for a certain record\n",
    "def strip_dashes(df, col1, values_to_exclude):\n",
    "    df[col1] = df.apply(lambda row: row[col1] if row[col1] in values_to_exclude else row[col1].replace('-', ''), axis=1)\n",
    "    return df\n",
    "\n",
    "# Values to exclude from the strip_dashes function\n",
    "values_to_exclude = ['MAL092040-2', 'MAL092040-3']\n",
    "\n",
    "# MAL09-2040-3"
   ]
  },
  {
   "cell_type": "code",
   "execution_count": null,
   "metadata": {},
   "outputs": [],
   "source": [
    "dst = strip_dashes(dst, 'specimen', values_to_exclude)"
   ]
  },
  {
   "cell_type": "code",
   "execution_count": null,
   "metadata": {},
   "outputs": [],
   "source": [
    "dst.head(20)"
   ]
  },
  {
   "cell_type": "code",
   "execution_count": null,
   "metadata": {},
   "outputs": [],
   "source": [
    "# I need to change some value in the specimen column to match the values in the specimen dataframe.\n",
    "dst['specimen'] = dst['specimen'].replace('MAL0920402', 'MAL092040-2')\n",
    "dst['specimen'] = dst['specimen'].replace('MAL0920403', 'MAL092040-3')"
   ]
  },
  {
   "cell_type": "code",
   "execution_count": null,
   "metadata": {},
   "outputs": [],
   "source": [
    "# Drop the specimen local column because it is not needed.\n",
    "dst.drop(columns=['specimen local'], inplace=True)"
   ]
  },
  {
   "cell_type": "code",
   "execution_count": null,
   "metadata": {},
   "outputs": [],
   "source": [
    "# I want to see how many of the specimen local identifiers are in the containeridentifier dataframe.\n",
    "# I will use the isin() function to see how many are in the containeridentifier dataframe.\n",
    "dst['specimen'].isin(containeridentifier['specimen']).value_counts()"
   ]
  },
  {
   "cell_type": "code",
   "execution_count": null,
   "metadata": {},
   "outputs": [],
   "source": [
    "dst['specimen'].isin(containeridentifier_prod['specimen']).value_counts()"
   ]
  },
  {
   "cell_type": "code",
   "execution_count": null,
   "metadata": {},
   "outputs": [],
   "source": [
    "# I want to see the records that are not in the containeridentifier dataframe.\n",
    "# I will use the ~ to see the records that are not in the containeridentifier dataframe.\n",
    "not_in_containerid = dst[~dst['specimen'].isin(containeridentifier['specimen'])]"
   ]
  },
  {
   "cell_type": "code",
   "execution_count": null,
   "metadata": {},
   "outputs": [],
   "source": [
    "not_in_containerid.head(60)"
   ]
  },
  {
   "cell_type": "code",
   "execution_count": null,
   "metadata": {},
   "outputs": [],
   "source": [
    "# not_in_containerid.to_csv('not_in_bulkupload_v2.csv', index=False)"
   ]
  },
  {
   "cell_type": "code",
   "execution_count": null,
   "metadata": {},
   "outputs": [],
   "source": [
    "dst = pd.merge(dst, containeridentifier, on='specimen')"
   ]
  },
  {
   "cell_type": "code",
   "execution_count": null,
   "metadata": {},
   "outputs": [],
   "source": [
    "dst.head(10)\n",
    "\n",
    "# MAL092040-3_S_3\n",
    "# MAL092040-2_S_2"
   ]
  },
  {
   "cell_type": "code",
   "execution_count": null,
   "metadata": {},
   "outputs": [],
   "source": [
    "containeridentifier.query('specimen == \"MAL0920403\"')"
   ]
  },
  {
   "cell_type": "code",
   "execution_count": null,
   "metadata": {},
   "outputs": [],
   "source": [
    "containeridentifier_prod.query('specimen == \"MAL0914801\"')"
   ]
  },
  {
   "cell_type": "code",
   "execution_count": null,
   "metadata": {},
   "outputs": [],
   "source": []
  }
 ],
 "metadata": {
  "kernelspec": {
   "display_name": "NTM-env",
   "language": "python",
   "name": "python3"
  },
  "language_info": {
   "codemirror_mode": {
    "name": "ipython",
    "version": 3
   },
   "file_extension": ".py",
   "mimetype": "text/x-python",
   "name": "python",
   "nbconvert_exporter": "python",
   "pygments_lexer": "ipython3",
   "version": "3.11.0"
  }
 },
 "nbformat": 4,
 "nbformat_minor": 2
}
