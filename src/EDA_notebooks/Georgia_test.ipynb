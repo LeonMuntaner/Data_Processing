{
 "cells": [
  {
   "cell_type": "code",
   "execution_count": 1,
   "metadata": {},
   "outputs": [],
   "source": [
    "import pandas as pd"
   ]
  },
  {
   "cell_type": "code",
   "execution_count": 2,
   "metadata": {},
   "outputs": [],
   "source": [
    "def _transform_containerid(row):\n",
    "    identifier = row['identifier']\n",
    "    bodysite = row['bodysite']\n",
    "    collected = row['collected']\n",
    "    \n",
    "    # Convert collected to datetime format\n",
    "    collected = pd.to_datetime(collected, infer_datetime_format=True)\n",
    "    \n",
    "    # Now, format the dates into the target format of %Y-%m-%d %H:%M:%S\n",
    "    collected = collected.strftime('%Y-%m-%d %H:%M:%S')\n",
    "    \n",
    "    # Determine the letter based on bodysite\n",
    "    letter = bodysite[0].upper()\n",
    "    \n",
    "    # Format the final value\n",
    "    transformed_value = f\"{identifier}_{letter}_{collected[8:10]}{collected[5:7]}{collected[2:4]}\"\n",
    "    \n",
    "    return transformed_value"
   ]
  },
  {
   "cell_type": "code",
   "execution_count": 3,
   "metadata": {},
   "outputs": [],
   "source": [
    "def change_dates(dataframe):\n",
    "    # Change the collected column to datetime format\n",
    "    dataframe['collected'] = pd.to_datetime(dataframe['collected'], infer_datetime_format=True)\n",
    "    \n",
    "    # Now, format the dates into the target format of %Y-%m-%d %H:%M:%S\n",
    "    dataframe['collected'] = dataframe['collected'].dt.strftime('%Y-%m-%d %H:%M:%S')\n",
    "    \n",
    "    return dataframe"
   ]
  },
  {
   "cell_type": "code",
   "execution_count": 4,
   "metadata": {},
   "outputs": [],
   "source": [
    "processed_december_specimen = pd.read_csv('Georgia/data/processed/Georgia_2400_1_december_specimen.csv')\n",
    "processed_december_culture = pd.read_csv('Georgia/data/processed/Georgia_2400_2_december_culture.csv')\n",
    "processed_december_microscopy = pd.read_csv('Georgia/data/processed/Georgia_2400_3_december_microscopy.csv')"
   ]
  },
  {
   "cell_type": "code",
   "execution_count": null,
   "metadata": {},
   "outputs": [],
   "source": [
    "# Apply the change_dates function to the processed_december dataframe\n",
    "processed_december_specimen = change_dates(processed_december_specimen)\n",
    "processed_december_culture = change_dates(processed_december_culture)\n",
    "processed_december_microscopy = change_dates(processed_december_microscopy)"
   ]
  },
  {
   "cell_type": "code",
   "execution_count": null,
   "metadata": {},
   "outputs": [],
   "source": [
    "# Apply the function to create a new column with the transformed values\n",
    "processed_december_specimen['transformed_value'] = processed_december_specimen.apply(_transform_containerid, axis=1)"
   ]
  },
  {
   "cell_type": "code",
   "execution_count": null,
   "metadata": {},
   "outputs": [],
   "source": [
    "processed_december_specimen.head(20)"
   ]
  },
  {
   "cell_type": "code",
   "execution_count": null,
   "metadata": {},
   "outputs": [],
   "source": [
    "# Update the spec_local_identifier column with the transformed values\n",
    "processed_december_specimen['containeridentifier'] = processed_december_specimen['transformed_value']\n",
    "\n",
    "# Drop the transformed_value column\n",
    "processed_december_specimen = processed_december_specimen.drop(columns=['transformed_value'])"
   ]
  },
  {
   "cell_type": "code",
   "execution_count": null,
   "metadata": {},
   "outputs": [],
   "source": [
    "processed_december_specimen.head(20)"
   ]
  },
  {
   "cell_type": "code",
   "execution_count": null,
   "metadata": {},
   "outputs": [],
   "source": []
  }
 ],
 "metadata": {
  "kernelspec": {
   "display_name": "NTM-env",
   "language": "python",
   "name": "python3"
  },
  "language_info": {
   "codemirror_mode": {
    "name": "ipython",
    "version": 3
   },
   "file_extension": ".py",
   "mimetype": "text/x-python",
   "name": "python",
   "nbconvert_exporter": "python",
   "pygments_lexer": "ipython3",
   "version": "3.11.0"
  }
 },
 "nbformat": 4,
 "nbformat_minor": 2
}
