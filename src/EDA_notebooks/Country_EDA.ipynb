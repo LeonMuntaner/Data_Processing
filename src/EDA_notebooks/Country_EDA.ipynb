{
 "cells": [
  {
   "cell_type": "code",
   "execution_count": null,
   "metadata": {},
   "outputs": [],
   "source": [
    "import os\n",
    "import sys\n",
    "import warnings\n",
    "import pandas as pd\n",
    "sys.path.append('modules')\n",
    "from transform_dst_mod import transform_dst\n",
    "from transform_specimen_mod import transform_specimen\n",
    "\n",
    "warnings.filterwarnings(\"ignore\")\n",
    "pd.set_option('display.max_columns', None)\n",
    "pd.set_option('display.max_rows', None)\n",
    "pd.set_option('display.max_columns', None)\n",
    "pd.set_option('display.max_colwidth', None)"
   ]
  },
  {
   "cell_type": "code",
   "execution_count": null,
   "metadata": {},
   "outputs": [],
   "source": [
    "dst = pd.read_csv('Mali/data/interm/Mali_jan_3_dst.csv')\n",
    "culture = pd.read_csv('Mali/data/interm/Mali_jan_4_culture.csv')\n",
    "specimen = pd.read_csv('Mali/data/interm/Mali_jan_1_specimen.csv')\n",
    "\n",
    "CaseBrowser_prod_data = pd.read_csv('Mali/data/raw/Mali_Prod_data_01_16_24.csv')\n",
    "\n",
    "registrationdate = CaseBrowser_prod_data[['patient_local_identifier', 'registrationdate']]\n",
    "registrationdate.rename(columns={'patient_local_identifier':'identifier'}, inplace=True)"
   ]
  },
  {
   "cell_type": "code",
   "execution_count": null,
   "metadata": {},
   "outputs": [],
   "source": [
    "# Creating the containeridentifier so that it can be used to merge with the specimen dataframe.\n",
    "containeridentifier = specimen[['patient_local_identifier', 'spec_local_identifier', 'collected_date']]\n",
    "\n",
    "# Change the column names to match the other dataframes.\n",
    "containeridentifier.rename(columns={'patient_local_identifier':'specimen', \n",
    "                                    'spec_local_identifier':'specimen local',\n",
    "                                    'collected_date':'date'}, inplace=True)"
   ]
  },
  {
   "cell_type": "code",
   "execution_count": null,
   "metadata": {},
   "outputs": [],
   "source": [
    "def transform_culture(culture_df):\n",
    "    culture_df.rename(columns={'patient_local_Identifier':'identifier', \n",
    "                        'spec_local_identifier':'containeridentifier', \n",
    "                        'collected_date':'issued',\n",
    "                        'result':'value'}, inplace=True)\n",
    "    \n",
    "    # For some reason this column name did not want to change unless I did it like this. \n",
    "    culture_df.rename(columns={culture_df.columns[3]: \"culturetype\"}, inplace = True)\n",
    "    \n",
    "    culture_df['value'] = culture_df['value'].replace(\n",
    "        to_replace=['1 to 19', '20 to 100', '20 to100', '100 to 200', 'More than 200', 'Positive', 'Negative', 'Unknown result', 'Study in progress', 'Not done', 'Nonspecific microflora', 'MOTT'],\n",
    "        value=['singleColony', '1+', '1+', '2+', '3+', 'positive', 'negative', 'unknownData', 'unfinishedResult', 'notDone', 'contamination', 'mott']\n",
    "    )\n",
    "    \n",
    "    culture_df['culturetype'] = culture_df['culturetype'].replace(\n",
    "        to_replace=['Liquid', 'Solid', 'Not specified'],\n",
    "        value=['liquid', 'solid', 'notSpecified']\n",
    "    )\n",
    "    \n",
    "    culture_df['issued'] = pd.to_datetime(culture_df['issued'])\n",
    "    culture_df['issued'] = culture_df['issued'].dt.strftime('%Y-%m-%d %H:%M:%S')\n",
    "    \n",
    "    new_order_culture = ['identifier', 'containeridentifier', 'issued', 'value', 'culturetype']\n",
    "    culture_df = culture_df.reindex(columns=new_order_culture)\n",
    "    \n",
    "    return culture_df"
   ]
  },
  {
   "cell_type": "code",
   "execution_count": null,
   "metadata": {},
   "outputs": [],
   "source": [
    "# Make a function that takes 3 parameters which are a dataframe and two column names.\n",
    "# The function will strip the dash from the two columns.\n",
    "def strip_dash_2(df, col1, col2):\n",
    "    df[col1] = df[col1].str.replace('-', '')\n",
    "    df[col2] = df[col2].str.replace('-', '')\n",
    "    return df"
   ]
  },
  {
   "cell_type": "code",
   "execution_count": null,
   "metadata": {},
   "outputs": [],
   "source": [
    "culture.head(20)"
   ]
  },
  {
   "cell_type": "code",
   "execution_count": null,
   "metadata": {},
   "outputs": [],
   "source": [
    "processed_culture = transform_culture(culture)"
   ]
  },
  {
   "cell_type": "code",
   "execution_count": null,
   "metadata": {},
   "outputs": [],
   "source": [
    "processed_culture = strip_dash_2(processed_culture, 'identifier', 'containeridentifier')"
   ]
  },
  {
   "cell_type": "code",
   "execution_count": null,
   "metadata": {},
   "outputs": [],
   "source": [
    "processed_culture.head(20)"
   ]
  },
  {
   "cell_type": "code",
   "execution_count": null,
   "metadata": {},
   "outputs": [],
   "source": [
    "# Sent this to Nik so that he can send it back to Mali\n",
    "# processed_culture.to_csv('Mali_jan_culture.csv', index=False)"
   ]
  },
  {
   "cell_type": "code",
   "execution_count": null,
   "metadata": {},
   "outputs": [],
   "source": [
    "containeridentifier.head(10)"
   ]
  },
  {
   "cell_type": "code",
   "execution_count": null,
   "metadata": {},
   "outputs": [],
   "source": [
    "dst.head(20)"
   ]
  },
  {
   "cell_type": "code",
   "execution_count": null,
   "metadata": {},
   "outputs": [],
   "source": [
    "dst = strip_dash_2(dst, 'specimen', 'specimen local')"
   ]
  },
  {
   "cell_type": "code",
   "execution_count": null,
   "metadata": {},
   "outputs": [],
   "source": [
    "# Drop the specimen local column because it is not needed.\n",
    "dst.drop(columns=['specimen local'], inplace=True)"
   ]
  },
  {
   "cell_type": "code",
   "execution_count": null,
   "metadata": {},
   "outputs": [],
   "source": [
    "dst = pd.merge(dst, containeridentifier, on='specimen')"
   ]
  },
  {
   "cell_type": "code",
   "execution_count": null,
   "metadata": {},
   "outputs": [],
   "source": [
    "dst.head(20)"
   ]
  },
  {
   "cell_type": "code",
   "execution_count": null,
   "metadata": {},
   "outputs": [],
   "source": [
    "dst.info()"
   ]
  },
  {
   "cell_type": "code",
   "execution_count": null,
   "metadata": {},
   "outputs": [],
   "source": [
    "# Moving the column to the second position.\n",
    "col_to_move = 'specimen local'\n",
    "new_position = 2\n",
    "\n",
    "# Move the column\n",
    "column_to_move_data = dst.pop(col_to_move)\n",
    "dst.insert(new_position, col_to_move, column_to_move_data)"
   ]
  },
  {
   "cell_type": "code",
   "execution_count": null,
   "metadata": {},
   "outputs": [],
   "source": [
    "processed_dst = transform_dst(dst, registrationdate)"
   ]
  },
  {
   "cell_type": "code",
   "execution_count": null,
   "metadata": {},
   "outputs": [],
   "source": [
    "processed_dst.info()"
   ]
  },
  {
   "cell_type": "code",
   "execution_count": null,
   "metadata": {},
   "outputs": [],
   "source": [
    "dst_df = pd.merge(processed_dst, registrationdate, on='identifier')\n",
    "dst_df['registrationdate'] = pd.to_datetime(dst_df['registrationdate'])\n",
    "dst_df['registrationdate'] = dst_df['registrationdate'].dt.strftime('%Y-%m-%d %H:%M:%S')"
   ]
  },
  {
   "cell_type": "code",
   "execution_count": null,
   "metadata": {},
   "outputs": [],
   "source": [
    "dst_df.info()"
   ]
  },
  {
   "cell_type": "code",
   "execution_count": null,
   "metadata": {},
   "outputs": [],
   "source": [
    "new_order_dst = ['identifier', 'registrationdate', 'containeridentifier', 'issued', 'dsttest', 'drugs']\n",
    "dst_df = dst_df.reindex(columns=new_order_dst)"
   ]
  },
  {
   "cell_type": "code",
   "execution_count": null,
   "metadata": {},
   "outputs": [],
   "source": [
    "# processed_dst.to_csv('Mali_Oct_1_DST.csv', index=False)"
   ]
  }
 ],
 "metadata": {
  "kernelspec": {
   "display_name": "NTM-env",
   "language": "python",
   "name": "python3"
  },
  "language_info": {
   "codemirror_mode": {
    "name": "ipython",
    "version": 3
   },
   "file_extension": ".py",
   "mimetype": "text/x-python",
   "name": "python",
   "nbconvert_exporter": "python",
   "pygments_lexer": "ipython3",
   "version": "3.11.0"
  }
 },
 "nbformat": 4,
 "nbformat_minor": 2
}
